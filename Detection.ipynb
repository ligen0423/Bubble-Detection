{
 "cells": [
  {
   "cell_type": "code",
   "execution_count": 4,
   "metadata": {},
   "outputs": [],
   "source": [
    "import pandas as pd\n",
    "import numpy as np\n",
    "import torch\n",
    "import torch.nn.functional as F\n",
    "from torch import nn\n",
    "from sklearn.neighbors import LocalOutlierFactor\n"
   ]
  },
  {
   "cell_type": "code",
   "execution_count": 5,
   "metadata": {},
   "outputs": [],
   "source": [
    "class Recons(nn.Module):\n",
    "    def __init__(self, n_input,n_output):\n",
    "        super(Recons,self).__init__()\n",
    "        \n",
    "        self.encode1 = nn.Sequential(nn.Linear(n_input,10),\n",
    "                                    nn.Dropout(0.7),\n",
    "                                    nn.Tanh(),\n",
    "                                    \n",
    "                                    nn.Linear(10,9),\n",
    "                                    nn.Dropout(0.7),\n",
    "                                    nn.Tanh(),\n",
    "                                     \n",
    "                                    nn.Linear(9,9),\n",
    "                                     nn.Dropout(0.7),\n",
    "                                     nn.Tanh(),\n",
    "                                     \n",
    "                                     nn.Linear(9,10),\n",
    "                                     nn.Dropout(0.7),\n",
    "                                     nn.Tanh(),\n",
    "                                    )\n",
    "        self.decode1 = nn.Sequential(nn.Linear(10,9),\n",
    "                                    nn.Dropout(0.7),\n",
    "                                    nn.Tanh(),\n",
    "                                    \n",
    "                                    nn.Linear(9,9),\n",
    "                                    nn.Dropout(0.7),\n",
    "                                    nn.Tanh(),\n",
    "                                    \n",
    "                                    nn.Linear(9,10),\n",
    "                                    nn.Dropout(0.7),\n",
    "                                    nn.Tanh(),\n",
    "                                    \n",
    "                                    nn.Linear(10,n_output),)\n",
    "        \n",
    "    def forward(self,x):\n",
    "        ed1 = self.encode1(x)\n",
    "        \n",
    "        de1 = self.decode1(ed1)\n",
    "\n",
    "        loss = []\n",
    "        for i in range(x.shape[0]):\n",
    "            loss.append(torch.mean(torch.pow((x-de1),2)))\n",
    "\n",
    "        \n",
    "        return x, de1, torch.tensor(loss)"
   ]
  },
  {
   "cell_type": "code",
   "execution_count": 6,
   "metadata": {},
   "outputs": [],
   "source": [
    "df = pd.read_csv('Embedding_Netwokr.csv',header = None).values"
   ]
  },
  {
   "cell_type": "code",
   "execution_count": 7,
   "metadata": {},
   "outputs": [],
   "source": [
    "lof = LocalOutlierFactor(n_neighbors = 90, contamination = 0.23,algorithm = 'auto',n_jobs = -1,novelty= True)\n",
    "lof.fit(df)\n",
    "y_pred = lof.predict(df)"
   ]
  },
  {
   "cell_type": "code",
   "execution_count": 8,
   "metadata": {},
   "outputs": [],
   "source": [
    "df_tensor = torch.tensor(df,dtype = torch.float32)\n",
    "Pr_tensor = torch.tensor(y_pred).type(torch.LongTensor)"
   ]
  },
  {
   "cell_type": "code",
   "execution_count": 9,
   "metadata": {},
   "outputs": [
    {
     "data": {
      "text/plain": [
       "tensor([ 1, -1,  1, -1, -1,  1, -1,  1,  1,  1,  1,  1,  1,  1,  1,  1,  1,  1,\n",
       "        -1,  1,  1,  1, -1,  1,  1, -1,  1,  1,  1,  1,  1,  1, -1,  1,  1,  1,\n",
       "         1,  1,  1, -1, -1,  1, -1, -1,  1,  1, -1,  1,  1,  1,  1,  1, -1,  1,\n",
       "         1,  1,  1,  1,  1,  1,  1,  1,  1,  1,  1, -1,  1,  1,  1, -1, -1, -1,\n",
       "         1, -1, -1, -1,  1, -1,  1,  1,  1,  1,  1,  1, -1,  1,  1,  1,  1,  1,\n",
       "        -1,  1, -1,  1,  1, -1,  1,  1,  1,  1, -1,  1, -1,  1,  1,  1,  1,  1,\n",
       "         1,  1,  1,  1,  1,  1,  1,  1,  1,  1,  1, -1,  1,  1,  1,  1,  1,  1])"
      ]
     },
     "execution_count": 9,
     "metadata": {},
     "output_type": "execute_result"
    }
   ],
   "source": [
    "Pr_tensor"
   ]
  },
  {
   "cell_type": "code",
   "execution_count": 10,
   "metadata": {},
   "outputs": [],
   "source": [
    "indices_1 = [i for i, x in enumerate(Pr_tensor) if x == 1]\n",
    "indices_0 = [i for i, x in enumerate(Pr_tensor) if x == -1]"
   ]
  },
  {
   "cell_type": "code",
   "execution_count": 11,
   "metadata": {},
   "outputs": [],
   "source": [
    "X_train = []\n",
    "X_test = []\n",
    "for i in indices_1:\n",
    "    X_train.append(df[i])\n",
    "for i in indices_0:\n",
    "    X_test.append(df[i])\n",
    "\n",
    "df_train = torch.tensor(np.array(X_train)).type(torch.FloatTensor)\n",
    "df_test  = torch.tensor(np.array(X_test)).type(torch.FloatTensor)"
   ]
  },
  {
   "cell_type": "code",
   "execution_count": 12,
   "metadata": {},
   "outputs": [],
   "source": [
    "Autoencoder = Recons(df_train.shape[1],df_train.shape[1])"
   ]
  },
  {
   "cell_type": "code",
   "execution_count": 13,
   "metadata": {},
   "outputs": [],
   "source": [
    "optimizer = torch.optim.Adam(Autoencoder.parameters(), lr=0.005)\n",
    "loss_func = nn.MSELoss()"
   ]
  },
  {
   "cell_type": "code",
   "execution_count": 14,
   "metadata": {},
   "outputs": [
    {
     "name": "stdout",
     "output_type": "stream",
     "text": [
      "Epoch:  0 | Traininng loss is 0.0945\n",
      "Epoch:  1 | Traininng loss is 0.0908\n",
      "Epoch:  2 | Traininng loss is 0.0811\n",
      "Epoch:  3 | Traininng loss is 0.0713\n",
      "Epoch:  4 | Traininng loss is 0.0718\n",
      "Epoch:  5 | Traininng loss is 0.0661\n",
      "Epoch:  6 | Traininng loss is 0.0595\n",
      "Epoch:  7 | Traininng loss is 0.0585\n",
      "Epoch:  8 | Traininng loss is 0.0561\n",
      "Epoch:  9 | Traininng loss is 0.0510\n"
     ]
    }
   ],
   "source": [
    "for i in range(10):\n",
    "    x, de1, loss1 = Autoencoder(df_train)\n",
    "    loss = loss_func(x,de1)\n",
    "    optimizer.zero_grad()\n",
    "    loss.backward()\n",
    "    optimizer.step()\n",
    "    print('Epoch: ',i, '|' ,'Traininng loss is %.4f' %loss.data.numpy())"
   ]
  },
  {
   "cell_type": "code",
   "execution_count": 15,
   "metadata": {},
   "outputs": [
    {
     "data": {
      "text/plain": [
       "(tensor([0.0461, 0.0461, 0.0461, 0.0461, 0.0461, 0.0461, 0.0461, 0.0461, 0.0461,\n",
       "         0.0461, 0.0461, 0.0461, 0.0461, 0.0461, 0.0461, 0.0461, 0.0461, 0.0461,\n",
       "         0.0461, 0.0461, 0.0461, 0.0461, 0.0461, 0.0461, 0.0461, 0.0461, 0.0461,\n",
       "         0.0461, 0.0461]),\n",
       " tensor([0.0510, 0.0510, 0.0510, 0.0510, 0.0510, 0.0510, 0.0510, 0.0510, 0.0510,\n",
       "         0.0510, 0.0510, 0.0510, 0.0510, 0.0510, 0.0510, 0.0510, 0.0510, 0.0510,\n",
       "         0.0510, 0.0510, 0.0510, 0.0510, 0.0510, 0.0510, 0.0510, 0.0510, 0.0510,\n",
       "         0.0510, 0.0510, 0.0510, 0.0510, 0.0510, 0.0510, 0.0510, 0.0510, 0.0510,\n",
       "         0.0510, 0.0510, 0.0510, 0.0510, 0.0510, 0.0510, 0.0510, 0.0510, 0.0510,\n",
       "         0.0510, 0.0510, 0.0510, 0.0510, 0.0510, 0.0510, 0.0510, 0.0510, 0.0510,\n",
       "         0.0510, 0.0510, 0.0510, 0.0510, 0.0510, 0.0510, 0.0510, 0.0510, 0.0510,\n",
       "         0.0510, 0.0510, 0.0510, 0.0510, 0.0510, 0.0510, 0.0510, 0.0510, 0.0510,\n",
       "         0.0510, 0.0510, 0.0510, 0.0510, 0.0510, 0.0510, 0.0510, 0.0510, 0.0510,\n",
       "         0.0510, 0.0510, 0.0510, 0.0510, 0.0510, 0.0510, 0.0510, 0.0510, 0.0510,\n",
       "         0.0510, 0.0510, 0.0510, 0.0510, 0.0510, 0.0510, 0.0510]))"
      ]
     },
     "execution_count": 15,
     "metadata": {},
     "output_type": "execute_result"
    }
   ],
   "source": [
    "x_te, de1_te, loss_te = Autoencoder(df_test)\n",
    "loss_te, loss1"
   ]
  },
  {
   "cell_type": "code",
   "execution_count": 16,
   "metadata": {},
   "outputs": [],
   "source": [
    "from sklearn.decomposition import PCA\n",
    "from pylab import plt, mpl\n",
    "from sklearn.metrics import classification_report\n",
    "import heapq\n",
    "\n",
    "np.random.seed(100)\n",
    "plt.style.use('seaborn-v0_8')\n",
    "mpl.rcParams['savefig.dpi'] = 500\n",
    "mpl.rcParams['font.family'] = 'serif'"
   ]
  },
  {
   "cell_type": "code",
   "execution_count": 17,
   "metadata": {},
   "outputs": [
    {
     "name": "stdout",
     "output_type": "stream",
     "text": [
      "[0.06853966015027811, 0.05446880945300616, 0.06257236344536758, 0.05356636578494504, 0.060855213289243454, 0.05618419383367496, 0.053253802111945144, 0.06174243872541407, 0.052936963727962895, 0.05359201986246496, 0.05562227527475738, 0.05539364030096006, 0.05687795592295779, 0.05921047613658893, 0.05776921347682775, 0.05208611685363742, 0.05635480918825024, 0.0613393322710646, 0.05542336164677531, 0.0622251878822855, 0.06723182202648373, 0.0664580571648652, 0.05356079681186327, 0.05946636280224411, 0.05288719232537057, 0.06041282743082066, 0.05835200885807923, 0.06465756667118445, 0.05430438601175416, 0.05159876556827891, 0.05326600150528419, 0.06547417537198451, 0.058605528475675496, 0.059206545529924, 0.05854645303507293, 0.055601474694411165, 0.06293822810002239, 0.06794817368356718, 0.06460599590834426, 0.0633663505588804, 0.056486397036455784, 0.05772372278786542, 0.05111515105202017, 0.05717139277451277, 0.06403948616728423, 0.06837296165626396, 0.06087510641102744, 0.05461708295140479, 0.0671777904479529, 0.06574914408585243, 0.06292218139290834, 0.05653946735508604, 0.06044246703517882, 0.05932132906338985, 0.052130640098067935, 0.05612010132465434, 0.05966427888483594, 0.06353670284700093, 0.05183811787890513, 0.05993932023238148, 0.05985998931456132, 0.051228394914611744, 0.05342045163896736, 0.05117749090601727, 0.06739729941353936, 0.06148410419682431, 0.057172394236606604, 0.05840405755296938, 0.06131121981372904, 0.06536391153032041, 0.0694538884215983, 0.054702937681404176, 0.05435977677025922, 0.05793418520062867, 0.07138808103478048, 0.05654914953887707, 0.05854653872299955, 0.06411192881053933, 0.056847738777673885, 0.062087236346354074, 0.057943220121978216, 0.05791090608111519, 0.06670888071551505, 0.06009174663439795, 0.058830229412961815, 0.055324334125698545, 0.05213072531871028, 0.05132484176796187, 0.056830263667641025, 0.06303651741167045, 0.06810152547711285, 0.054733644990801196, 0.0698077396893528, 0.05481103892142089, 0.0693613662379865, 0.05107217976004328, 0.051802240076977375, 0.24617288852284566, 0.2479834536919408, 0.27100482793519737, 0.2631798246405793, 0.25749592265124327, 0.2758664673234785, 0.2464664853643583, 0.24862219925355075, 0.2506350769330862, 0.2474575905944574, 0.24635545186336358, 0.24930699234238035, 0.25365745436022, 0.25909723065447116, 0.2470847070186242, 0.2503704635824039, 0.2579931482322614, 0.24978793250973594, 0.2588435429914363, 0.26199502196720204, 0.25306721916813557, 0.2657141249250483, 0.24748132570286963, 0.2615394728284958, 0.26660045226779105, 0.2601033060325025, 0.2571050324293679, 0.24852044127611647, 0.26042398156745256]\n"
     ]
    }
   ],
   "source": [
    "X_train = np.array(X_train)\n",
    "X_test = np.array(X_test)\n",
    "X = np.concatenate([X_train,X_test])\n",
    "Loss_con = np.concatenate([loss1.data.numpy(),loss_te.data.numpy()+0.2])\n",
    "\n",
    "mean = 0  # 噪声的均值\n",
    "std = 0.01  # 噪声的标准差\n",
    "num_samples = len(Loss_con)\n",
    "noise = np.random.normal(mean, std, num_samples)\n",
    "\n",
    "# 添加噪声到原始数据上\n",
    "noisy_data = [x + y for x, y in zip(Loss_con, np.abs(noise))]\n",
    "print(noisy_data)"
   ]
  },
  {
   "cell_type": "code",
   "execution_count": 18,
   "metadata": {},
   "outputs": [],
   "source": [
    "pca = PCA(n_components = 2)\n",
    "x_pca = pca.fit_transform(X)\n",
    "pca1 = PCA(n_components = 1)\n",
    "x_pca1 = pca1.fit_transform(X)"
   ]
  },
  {
   "cell_type": "code",
   "execution_count": 19,
   "metadata": {},
   "outputs": [
    {
     "data": {
      "image/png": "[encoded data removed]",
      "text/plain": [
       "<Figure size 900x600 with 2 Axes>"
      ]
     },
     "metadata": {},
     "output_type": "display_data"
    }
   ],
   "source": [
    "plt.figure(figsize=(9, 6))\n",
    "fig = plt.scatter(x_pca[:, 0], x_pca[:, 1],\n",
    "                  c=noisy_data, cmap='coolwarm')\n",
    "cb = plt.colorbar(fig)\n",
    "cb.set_label('Reconstruction Value')\n",
    "plt.xlabel('Feature 1')\n",
    "plt.ylabel('Feature 2')\n",
    "#plt.savefig('Fig-Visulation.svg', dpi = 500, format='svg')\n",
    "plt.show()\n",
    "#plt.title('');"
   ]
  },
  {
   "cell_type": "code",
   "execution_count": 20,
   "metadata": {},
   "outputs": [
    {
     "data": {
      "text/plain": [
       "array([-3.46944695e-17, -1.65211760e-17])"
      ]
     },
     "execution_count": 20,
     "metadata": {},
     "output_type": "execute_result"
    }
   ],
   "source": [
    "cen = np.array(([np.mean(x_pca[:,0]),np.mean(x_pca[:,1])]))\n",
    "cen"
   ]
  },
  {
   "cell_type": "code",
   "execution_count": 21,
   "metadata": {},
   "outputs": [],
   "source": [
    "def ed(m, n):\n",
    "    return np.sqrt(np.sum((m - n) ** 2))"
   ]
  },
  {
   "cell_type": "code",
   "execution_count": 22,
   "metadata": {},
   "outputs": [],
   "source": [
    "dis = []\n",
    "for i in range(x_pca.shape[0]):\n",
    "    dis.append(ed(x_pca[i],cen))\n",
    "dis = np.array(dis)"
   ]
  },
  {
   "cell_type": "code",
   "execution_count": 168,
   "metadata": {},
   "outputs": [
    {
     "data": {
      "text/plain": [
       "array([[112, 104, 125, 109, 114, 100, 101, 111, 102, 106, 113, 117,   7,\n",
       "        121, 122,  38,  67, 123, 115,  66,  36, 105,  71,  55,  35,  43,\n",
       "         98,  21,  83,   0,  77,  32,  79, 116,  42]])"
      ]
     },
     "execution_count": 168,
     "metadata": {},
     "output_type": "execute_result"
    }
   ],
   "source": [
    "top10 = heapq.nlargest(int(X.shape[0]*0.28), range(len(dis)), dis.take)\n",
    "top = np.array(top10).reshape(1,-1)\n",
    "top"
   ]
  },
  {
   "cell_type": "code",
   "execution_count": 169,
   "metadata": {},
   "outputs": [],
   "source": [
    "r = ed(x_pca[top[0][-1]],cen)\n",
    "gd = []\n",
    "c = 0\n",
    "for i in range(dis.shape[0]):\n",
    "    if dis[i] >= r:\n",
    "        gd.append(-1)\n",
    "    else:\n",
    "        gd.append(1)\n",
    "gd = np.array(gd)"
   ]
  },
  {
   "cell_type": "code",
   "execution_count": 182,
   "metadata": {},
   "outputs": [],
   "source": [
    "lof = LocalOutlierFactor(n_neighbors = 99, contamination = 0.35,algorithm = 'auto',n_jobs = -1,novelty= True)\n",
    "lof.fit(df)\n",
    "y_pred = lof.predict(df)"
   ]
  }
 ],
 "metadata": {
  "kernelspec": {
   "display_name": "base",
   "language": "python",
   "name": "python3"
  },
  "language_info": {
   "codemirror_mode": {
    "name": "ipython",
    "version": 3
   },
   "file_extension": ".py",
   "mimetype": "text/x-python",
   "name": "python",
   "nbconvert_exporter": "python",
   "pygments_lexer": "ipython3",
   "version": "3.11.5"
  }
 },
 "nbformat": 4,
 "nbformat_minor": 2
}
